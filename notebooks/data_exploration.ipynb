{
 "cells": [
  {
   "cell_type": "markdown",
   "source": [
    "# Online Retail: Data Exploration Notebook"
   ],
   "metadata": {}
  },
  {
   "cell_type": "markdown",
   "source": [
    "## Source  \r\n",
    "Dr Daqing Chen, Director: Public Analytics group. chend '@' lsbu.ac.uk, School of Engineering, London South Bank University, London SE1 0AA, UK."
   ],
   "metadata": {}
  },
  {
   "cell_type": "markdown",
   "source": [
    "## Goals and Questions  \r\n",
    "* Find groupings amongst customers (if any exist)  \r\n",
    "* What items do customers buy most?  "
   ],
   "metadata": {}
  },
  {
   "cell_type": "code",
   "execution_count": 1,
   "source": [
    "import os\n",
    "import numpy as np\n",
    "import pandas as pd\n",
    "from matplotlib import pyplot as plt\n",
    "from sklearn.preprocessing import Normalizer\n",
    "from sklearn.decomposition import PCA\n",
    "from sklearn.cluster import Birch\n",
    "from dotenv import load_dotenv\n",
    "load_dotenv()"
   ],
   "outputs": [
    {
     "output_type": "execute_result",
     "data": {
      "text/plain": [
       "True"
      ]
     },
     "metadata": {},
     "execution_count": 1
    }
   ],
   "metadata": {}
  },
  {
   "cell_type": "markdown",
   "source": [
    "## How can customers be grouped together?  "
   ],
   "metadata": {}
  },
  {
   "cell_type": "markdown",
   "source": [
    "Steps were first taken to transform the original data set (where each row represented a purchase of a particlar product by a customer when the customer purchased it) into a form where each row represented a customer and that customer's purchase history. The script `dataset_generator.py` handles the processes to make that happen, and some of the resulting data sets are used here.  "
   ],
   "metadata": {}
  },
  {
   "cell_type": "markdown",
   "source": [
    "The script `dataset_generator.py` already automates the fitting of the cluster model and creates the data sets that include the customers segmented by cluster. This section of the notebook aims to visualize the clusters and also show why two principle components were used instead of three.  "
   ],
   "metadata": {}
  },
  {
   "cell_type": "code",
   "execution_count": 2,
   "source": [
    "online_retail_data = pd.read_csv(f\"{os.getenv('PROJ_REPOS')}/data/Online_Retail_Train.csv\", encoding='latin1')\n",
    "quantities_of_purchases_by_customer = pd.read_csv(f\"{os.getenv('PROJ_REPOS')}/data/Customer_Purchases.csv\", encoding='latin1', index_col='CustomerID')\n",
    "quantities_of_purchases_by_customer_norm = pd.read_csv(f\"{os.getenv('PROJ_REPOS')}/data/Customer_Purchases_Norm.csv\", encoding='latin1', index_col='CustomerID')"
   ],
   "outputs": [],
   "metadata": {}
  },
  {
   "cell_type": "code",
   "execution_count": 3,
   "source": [
    "pca_2d = PCA(n_components=2)\n",
    "principle_components_2d = pca_2d.fit_transform(quantities_of_purchases_by_customer_norm)\n",
    "principle_2d_df = pd.DataFrame(data=principle_components_2d, columns=['pc1', 'pc2'])\n",
    "principle_2d_df = principle_2d_df.set_index(quantities_of_purchases_by_customer_norm.index)\n",
    "principle_2d_df"
   ],
   "outputs": [
    {
     "output_type": "execute_result",
     "data": {
      "text/html": [
       "<div>\n",
       "<style scoped>\n",
       "    .dataframe tbody tr th:only-of-type {\n",
       "        vertical-align: middle;\n",
       "    }\n",
       "\n",
       "    .dataframe tbody tr th {\n",
       "        vertical-align: top;\n",
       "    }\n",
       "\n",
       "    .dataframe thead th {\n",
       "        text-align: right;\n",
       "    }\n",
       "</style>\n",
       "<table border=\"1\" class=\"dataframe\">\n",
       "  <thead>\n",
       "    <tr style=\"text-align: right;\">\n",
       "      <th></th>\n",
       "      <th>pc1</th>\n",
       "      <th>pc2</th>\n",
       "    </tr>\n",
       "    <tr>\n",
       "      <th>CustomerID</th>\n",
       "      <th></th>\n",
       "      <th></th>\n",
       "    </tr>\n",
       "  </thead>\n",
       "  <tbody>\n",
       "    <tr>\n",
       "      <th>12346</th>\n",
       "      <td>-0.101815</td>\n",
       "      <td>-0.004632</td>\n",
       "    </tr>\n",
       "    <tr>\n",
       "      <th>12347</th>\n",
       "      <td>0.860826</td>\n",
       "      <td>0.051597</td>\n",
       "    </tr>\n",
       "    <tr>\n",
       "      <th>12348</th>\n",
       "      <td>0.855418</td>\n",
       "      <td>0.026425</td>\n",
       "    </tr>\n",
       "    <tr>\n",
       "      <th>12349</th>\n",
       "      <td>0.884582</td>\n",
       "      <td>0.012625</td>\n",
       "    </tr>\n",
       "    <tr>\n",
       "      <th>12350</th>\n",
       "      <td>0.853535</td>\n",
       "      <td>0.034832</td>\n",
       "    </tr>\n",
       "    <tr>\n",
       "      <th>...</th>\n",
       "      <td>...</td>\n",
       "      <td>...</td>\n",
       "    </tr>\n",
       "    <tr>\n",
       "      <th>18280</th>\n",
       "      <td>-0.098363</td>\n",
       "      <td>-0.002413</td>\n",
       "    </tr>\n",
       "    <tr>\n",
       "      <th>18281</th>\n",
       "      <td>-0.091989</td>\n",
       "      <td>0.002320</td>\n",
       "    </tr>\n",
       "    <tr>\n",
       "      <th>18282</th>\n",
       "      <td>-0.099687</td>\n",
       "      <td>-0.000871</td>\n",
       "    </tr>\n",
       "    <tr>\n",
       "      <th>18283</th>\n",
       "      <td>-0.075955</td>\n",
       "      <td>0.011198</td>\n",
       "    </tr>\n",
       "    <tr>\n",
       "      <th>18287</th>\n",
       "      <td>-0.102577</td>\n",
       "      <td>-0.001754</td>\n",
       "    </tr>\n",
       "  </tbody>\n",
       "</table>\n",
       "<p>4351 rows × 2 columns</p>\n",
       "</div>"
      ],
      "text/plain": [
       "                 pc1       pc2\n",
       "CustomerID                    \n",
       "12346      -0.101815 -0.004632\n",
       "12347       0.860826  0.051597\n",
       "12348       0.855418  0.026425\n",
       "12349       0.884582  0.012625\n",
       "12350       0.853535  0.034832\n",
       "...              ...       ...\n",
       "18280      -0.098363 -0.002413\n",
       "18281      -0.091989  0.002320\n",
       "18282      -0.099687 -0.000871\n",
       "18283      -0.075955  0.011198\n",
       "18287      -0.102577 -0.001754\n",
       "\n",
       "[4351 rows x 2 columns]"
      ]
     },
     "metadata": {},
     "execution_count": 3
    }
   ],
   "metadata": {}
  },
  {
   "cell_type": "code",
   "execution_count": 4,
   "source": [
    "plt.scatter(principle_2d_df.pc1, principle_2d_df.pc2)\n",
    "plt.show()"
   ],
   "outputs": [
    {
     "output_type": "display_data",
     "data": {
      "image/png": "[encoded data removed]",
      "text/plain": [
       "<Figure size 432x288 with 1 Axes>"
      ]
     },
     "metadata": {
      "needs_background": "light"
     }
    }
   ],
   "metadata": {}
  },
  {
   "cell_type": "code",
   "execution_count": 5,
   "source": [
    "pca_3d = PCA(n_components=3)\n",
    "principle_components_3d = pca_3d.fit_transform(quantities_of_purchases_by_customer_norm)\n",
    "principle_3d_df = pd.DataFrame(data=principle_components_3d, columns=['pc1', 'pc2', 'pc3'])\n",
    "principle_3d_df = principle_3d_df.set_index(quantities_of_purchases_by_customer_norm.index)\n",
    "principle_3d_df"
   ],
   "outputs": [
    {
     "output_type": "execute_result",
     "data": {
      "text/html": [
       "<div>\n",
       "<style scoped>\n",
       "    .dataframe tbody tr th:only-of-type {\n",
       "        vertical-align: middle;\n",
       "    }\n",
       "\n",
       "    .dataframe tbody tr th {\n",
       "        vertical-align: top;\n",
       "    }\n",
       "\n",
       "    .dataframe thead th {\n",
       "        text-align: right;\n",
       "    }\n",
       "</style>\n",
       "<table border=\"1\" class=\"dataframe\">\n",
       "  <thead>\n",
       "    <tr style=\"text-align: right;\">\n",
       "      <th></th>\n",
       "      <th>pc1</th>\n",
       "      <th>pc2</th>\n",
       "      <th>pc3</th>\n",
       "    </tr>\n",
       "    <tr>\n",
       "      <th>CustomerID</th>\n",
       "      <th></th>\n",
       "      <th></th>\n",
       "      <th></th>\n",
       "    </tr>\n",
       "  </thead>\n",
       "  <tbody>\n",
       "    <tr>\n",
       "      <th>12346</th>\n",
       "      <td>-0.101815</td>\n",
       "      <td>-0.004597</td>\n",
       "      <td>-0.033388</td>\n",
       "    </tr>\n",
       "    <tr>\n",
       "      <th>12347</th>\n",
       "      <td>0.860826</td>\n",
       "      <td>0.051444</td>\n",
       "      <td>0.029741</td>\n",
       "    </tr>\n",
       "    <tr>\n",
       "      <th>12348</th>\n",
       "      <td>0.855418</td>\n",
       "      <td>0.026428</td>\n",
       "      <td>-0.003386</td>\n",
       "    </tr>\n",
       "    <tr>\n",
       "      <th>12349</th>\n",
       "      <td>0.884582</td>\n",
       "      <td>0.012789</td>\n",
       "      <td>-0.049280</td>\n",
       "    </tr>\n",
       "    <tr>\n",
       "      <th>12350</th>\n",
       "      <td>0.853535</td>\n",
       "      <td>0.034896</td>\n",
       "      <td>-0.037726</td>\n",
       "    </tr>\n",
       "    <tr>\n",
       "      <th>...</th>\n",
       "      <td>...</td>\n",
       "      <td>...</td>\n",
       "      <td>...</td>\n",
       "    </tr>\n",
       "    <tr>\n",
       "      <th>18280</th>\n",
       "      <td>-0.098363</td>\n",
       "      <td>-0.002384</td>\n",
       "      <td>-0.028559</td>\n",
       "    </tr>\n",
       "    <tr>\n",
       "      <th>18281</th>\n",
       "      <td>-0.091989</td>\n",
       "      <td>0.002323</td>\n",
       "      <td>-0.011573</td>\n",
       "    </tr>\n",
       "    <tr>\n",
       "      <th>18282</th>\n",
       "      <td>-0.099687</td>\n",
       "      <td>-0.000843</td>\n",
       "      <td>-0.035319</td>\n",
       "    </tr>\n",
       "    <tr>\n",
       "      <th>18283</th>\n",
       "      <td>-0.075955</td>\n",
       "      <td>0.011184</td>\n",
       "      <td>0.075852</td>\n",
       "    </tr>\n",
       "    <tr>\n",
       "      <th>18287</th>\n",
       "      <td>-0.102577</td>\n",
       "      <td>-0.001762</td>\n",
       "      <td>-0.015376</td>\n",
       "    </tr>\n",
       "  </tbody>\n",
       "</table>\n",
       "<p>4351 rows × 3 columns</p>\n",
       "</div>"
      ],
      "text/plain": [
       "                 pc1       pc2       pc3\n",
       "CustomerID                              \n",
       "12346      -0.101815 -0.004597 -0.033388\n",
       "12347       0.860826  0.051444  0.029741\n",
       "12348       0.855418  0.026428 -0.003386\n",
       "12349       0.884582  0.012789 -0.049280\n",
       "12350       0.853535  0.034896 -0.037726\n",
       "...              ...       ...       ...\n",
       "18280      -0.098363 -0.002384 -0.028559\n",
       "18281      -0.091989  0.002323 -0.011573\n",
       "18282      -0.099687 -0.000843 -0.035319\n",
       "18283      -0.075955  0.011184  0.075852\n",
       "18287      -0.102577 -0.001762 -0.015376\n",
       "\n",
       "[4351 rows x 3 columns]"
      ]
     },
     "metadata": {},
     "execution_count": 5
    }
   ],
   "metadata": {}
  },
  {
   "cell_type": "code",
   "execution_count": 6,
   "source": [
    "fig = plt.figure(figsize = (5, 5))\n",
    "ax = plt.axes(projection =\"3d\")\n",
    "ax.scatter3D(principle_3d_df.pc1, principle_3d_df.pc2, principle_3d_df.pc3)\n",
    "plt.show()"
   ],
   "outputs": [
    {
     "output_type": "display_data",
     "data": {
      "image/png": "[encoded data removed]",
      "text/plain": [
       "<Figure size 360x360 with 1 Axes>"
      ]
     },
     "metadata": {
      "needs_background": "light"
     }
    }
   ],
   "metadata": {}
  },
  {
   "cell_type": "code",
   "execution_count": 7,
   "source": [
    "clustering_model = Birch(threshold=0.01, n_clusters=4)\n",
    "clustering_model.fit(principle_2d_df)\n",
    "predictions = clustering_model.predict(principle_2d_df)\n",
    "clusters = np.unique(predictions)"
   ],
   "outputs": [],
   "metadata": {}
  },
  {
   "cell_type": "code",
   "execution_count": 8,
   "source": [
    "principle_2d_df['Cluster'] = predictions\n",
    "principle_2d_df"
   ],
   "outputs": [
    {
     "output_type": "execute_result",
     "data": {
      "text/html": [
       "<div>\n",
       "<style scoped>\n",
       "    .dataframe tbody tr th:only-of-type {\n",
       "        vertical-align: middle;\n",
       "    }\n",
       "\n",
       "    .dataframe tbody tr th {\n",
       "        vertical-align: top;\n",
       "    }\n",
       "\n",
       "    .dataframe thead th {\n",
       "        text-align: right;\n",
       "    }\n",
       "</style>\n",
       "<table border=\"1\" class=\"dataframe\">\n",
       "  <thead>\n",
       "    <tr style=\"text-align: right;\">\n",
       "      <th></th>\n",
       "      <th>pc1</th>\n",
       "      <th>pc2</th>\n",
       "      <th>Cluster</th>\n",
       "    </tr>\n",
       "    <tr>\n",
       "      <th>CustomerID</th>\n",
       "      <th></th>\n",
       "      <th></th>\n",
       "      <th></th>\n",
       "    </tr>\n",
       "  </thead>\n",
       "  <tbody>\n",
       "    <tr>\n",
       "      <th>12346</th>\n",
       "      <td>-0.101815</td>\n",
       "      <td>-0.004632</td>\n",
       "      <td>3</td>\n",
       "    </tr>\n",
       "    <tr>\n",
       "      <th>12347</th>\n",
       "      <td>0.860826</td>\n",
       "      <td>0.051597</td>\n",
       "      <td>0</td>\n",
       "    </tr>\n",
       "    <tr>\n",
       "      <th>12348</th>\n",
       "      <td>0.855418</td>\n",
       "      <td>0.026425</td>\n",
       "      <td>0</td>\n",
       "    </tr>\n",
       "    <tr>\n",
       "      <th>12349</th>\n",
       "      <td>0.884582</td>\n",
       "      <td>0.012625</td>\n",
       "      <td>0</td>\n",
       "    </tr>\n",
       "    <tr>\n",
       "      <th>12350</th>\n",
       "      <td>0.853535</td>\n",
       "      <td>0.034832</td>\n",
       "      <td>0</td>\n",
       "    </tr>\n",
       "    <tr>\n",
       "      <th>...</th>\n",
       "      <td>...</td>\n",
       "      <td>...</td>\n",
       "      <td>...</td>\n",
       "    </tr>\n",
       "    <tr>\n",
       "      <th>18280</th>\n",
       "      <td>-0.098363</td>\n",
       "      <td>-0.002413</td>\n",
       "      <td>3</td>\n",
       "    </tr>\n",
       "    <tr>\n",
       "      <th>18281</th>\n",
       "      <td>-0.091989</td>\n",
       "      <td>0.002320</td>\n",
       "      <td>3</td>\n",
       "    </tr>\n",
       "    <tr>\n",
       "      <th>18282</th>\n",
       "      <td>-0.099687</td>\n",
       "      <td>-0.000871</td>\n",
       "      <td>3</td>\n",
       "    </tr>\n",
       "    <tr>\n",
       "      <th>18283</th>\n",
       "      <td>-0.075955</td>\n",
       "      <td>0.011198</td>\n",
       "      <td>3</td>\n",
       "    </tr>\n",
       "    <tr>\n",
       "      <th>18287</th>\n",
       "      <td>-0.102577</td>\n",
       "      <td>-0.001754</td>\n",
       "      <td>3</td>\n",
       "    </tr>\n",
       "  </tbody>\n",
       "</table>\n",
       "<p>4351 rows × 3 columns</p>\n",
       "</div>"
      ],
      "text/plain": [
       "                 pc1       pc2  Cluster\n",
       "CustomerID                             \n",
       "12346      -0.101815 -0.004632        3\n",
       "12347       0.860826  0.051597        0\n",
       "12348       0.855418  0.026425        0\n",
       "12349       0.884582  0.012625        0\n",
       "12350       0.853535  0.034832        0\n",
       "...              ...       ...      ...\n",
       "18280      -0.098363 -0.002413        3\n",
       "18281      -0.091989  0.002320        3\n",
       "18282      -0.099687 -0.000871        3\n",
       "18283      -0.075955  0.011198        3\n",
       "18287      -0.102577 -0.001754        3\n",
       "\n",
       "[4351 rows x 3 columns]"
      ]
     },
     "metadata": {},
     "execution_count": 8
    }
   ],
   "metadata": {}
  },
  {
   "cell_type": "code",
   "execution_count": 9,
   "source": [
    "for cluster in clusters:\n",
    "\tpc1_cluster_n = principle_2d_df.query(f\"Cluster == {cluster}\").pc1\n",
    "\tpc2_cluster_n = principle_2d_df.query(f\"Cluster == {cluster}\").pc2\n",
    "\tplt.scatter(pc1_cluster_n, pc2_cluster_n)\n",
    "plt.show()"
   ],
   "outputs": [
    {
     "output_type": "display_data",
     "data": {
      "image/png": "[encoded data removed]",
      "text/plain": [
       "<Figure size 432x288 with 1 Axes>"
      ]
     },
     "metadata": {
      "needs_background": "light"
     }
    }
   ],
   "metadata": {}
  },
  {
   "cell_type": "markdown",
   "source": [
    "## What do customers like to buy?"
   ],
   "metadata": {}
  },
  {
   "cell_type": "markdown",
   "source": [
    "### Most popular products overall  "
   ],
   "metadata": {}
  },
  {
   "cell_type": "code",
   "execution_count": null,
   "source": [],
   "outputs": [],
   "metadata": {}
  },
  {
   "cell_type": "markdown",
   "source": [
    "### Most popular products by cluster  "
   ],
   "metadata": {}
  },
  {
   "cell_type": "code",
   "execution_count": null,
   "source": [
    "online_retail_data = pd.read_csv(f\"{os.getenv('PROJ_REPOS')}/data/Online_Retail_Train.csv\", encoding='latin1')\n",
    "online_retail_data = online_retail_data.astype({'StockCode': str, 'CustomerID': str})\n",
    "online_retail_data.sample(n=10)"
   ],
   "outputs": [],
   "metadata": {}
  },
  {
   "cell_type": "code",
   "execution_count": null,
   "source": [
    "customer_purchases = pd.read_csv(f\"{os.getenv('PROJ_REPOS')}/data/Customer_Purchases_Clusters.csv\", encoding='latin1')\n",
    "customer_purchases = customer_purchases.astype({'CustomerID': str})\n",
    "customer_purchases"
   ],
   "outputs": [],
   "metadata": {}
  },
  {
   "cell_type": "code",
   "execution_count": null,
   "source": [
    "customer_purchases_norm = pd.read_csv(f\"{os.getenv('PROJ_REPOS')}/data/Customer_Purchases_Clusters_Norm.csv\", encoding='latin1')\n",
    "customer_purchases_norm = customer_purchases_norm.astype({'CustomerID': str})\n",
    "customer_purchases_norm"
   ],
   "outputs": [],
   "metadata": {}
  },
  {
   "cell_type": "code",
   "execution_count": null,
   "source": [
    "stock_codes = list(set(online_retail_data.StockCode.astype(str).values))\n",
    "stock_codes.sort()\n",
    "for i, stock_code in enumerate(stock_codes):\n",
    "    stock_codes[i] = stock_code.replace(' ', '_')\n",
    "stock_codes = stock_codes[:-8]"
   ],
   "outputs": [],
   "metadata": {}
  },
  {
   "cell_type": "code",
   "execution_count": null,
   "source": [
    "cluster0 = customer_purchases.query('Cluster == 0').set_index('CustomerID')\n",
    "cluster0 = cluster0.loc[:, (cluster0 != 0).any(axis=0)]\n",
    "cluster0['Cluster'] = 0\n",
    "to_front_col = cluster0.pop('Cluster')\n",
    "cluster0.insert(0, 'Cluster', to_front_col)\n",
    "filter_col = [col for col in cluster0 if col in stock_codes]\n",
    "cluster0[filter_col] = cluster0[filter_col].div(cluster0[filter_col].sum(axis=1), axis=0)\n",
    "cluster0 = cluster0.dropna()\n",
    "cluster0"
   ],
   "outputs": [],
   "metadata": {}
  },
  {
   "cell_type": "code",
   "execution_count": null,
   "source": [
    "filter_col = [col for col in cluster0 if col in stock_codes]\n",
    "cluster0_relative_stockcode_freq = pd.DataFrame(data = np.transpose(cluster0.groupby('Cluster').sum().reset_index()[filter_col]))\n",
    "cluster0_relative_stockcode_freq = cluster0_relative_stockcode_freq.rename(columns={0: 'Cluster0'})\n",
    "cluster0_relative_stockcode_freq"
   ],
   "outputs": [],
   "metadata": {}
  },
  {
   "cell_type": "code",
   "execution_count": null,
   "source": [
    "stock_codes_with_highest_relative_value = pd.DataFrame(cluster0_relative_stockcode_freq.nlargest(10, ['Cluster0']).index).rename(columns={0: 'StockCode'})\n",
    "cluster0_top_purchases = stock_codes_with_highest_relative_value.merge(online_retail_data, on='StockCode')[['StockCode', 'Description']].drop_duplicates().dropna()\n",
    "cluster0_top_purchases['Desc_isupper'] = list(map(lambda x: x.isupper(), cluster0_top_purchases['Description']))\n",
    "cluster0_top_purchases = cluster0_top_purchases.query('Desc_isupper == True').reset_index()[['StockCode', 'Description']]\n",
    "cluster0_top_purchases"
   ],
   "outputs": [],
   "metadata": {}
  },
  {
   "cell_type": "code",
   "execution_count": null,
   "source": [
    "cluster1 = customer_purchases.query('Cluster == 1').set_index('CustomerID')\n",
    "cluster1 = cluster1.loc[:, (cluster1 != 0).any(axis=0)]\n",
    "filter_col = [col for col in cluster1 if col in stock_codes]\n",
    "cluster1[filter_col] = cluster1[filter_col].div(cluster1[filter_col].sum(axis=1), axis=0)\n",
    "cluster1 = cluster1.dropna()\n",
    "cluster1"
   ],
   "outputs": [],
   "metadata": {}
  },
  {
   "cell_type": "code",
   "execution_count": null,
   "source": [
    "filter_col = [col for col in cluster1 if col in stock_codes]\n",
    "cluster1_relative_stockcode_freq = pd.DataFrame(data = np.transpose(cluster1.groupby('Cluster').sum().reset_index()[filter_col]))\n",
    "cluster1_relative_stockcode_freq = cluster1_relative_stockcode_freq.rename(columns={0: 'Cluster1'})\n",
    "cluster1_relative_stockcode_freq"
   ],
   "outputs": [],
   "metadata": {}
  },
  {
   "cell_type": "code",
   "execution_count": null,
   "source": [
    "stock_codes_with_highest_relative_value = pd.DataFrame(cluster1_relative_stockcode_freq.nlargest(10, ['Cluster1']).index).rename(columns={0: 'StockCode'})\n",
    "cluster1_top_purchases = stock_codes_with_highest_relative_value.merge(online_retail_data, on='StockCode')[['StockCode', 'Description']].drop_duplicates().dropna()\n",
    "cluster1_top_purchases['Desc_isupper'] = list(map(lambda x: x.isupper(), cluster1_top_purchases['Description']))\n",
    "cluster1_top_purchases = cluster1_top_purchases.query('Desc_isupper == True').reset_index()[['StockCode', 'Description']]\n",
    "cluster1_top_purchases"
   ],
   "outputs": [],
   "metadata": {}
  },
  {
   "cell_type": "code",
   "execution_count": null,
   "source": [
    "cluster2 = customer_purchases.query('Cluster == 2').set_index('CustomerID')\n",
    "cluster2 = cluster2.loc[:, (cluster2 != 0).any(axis=0)]\n",
    "filter_col = [col for col in cluster2 if col in stock_codes]\n",
    "cluster2[filter_col] = cluster2[filter_col].div(cluster2[filter_col].sum(axis=1), axis=0)\n",
    "cluster2 = cluster2.dropna()\n",
    "cluster2"
   ],
   "outputs": [],
   "metadata": {}
  },
  {
   "cell_type": "code",
   "execution_count": null,
   "source": [
    "filter_col = [col for col in cluster2 if col in stock_codes]\n",
    "cluster2_relative_stockcode_freq = pd.DataFrame(data = np.transpose(cluster2.groupby('Cluster').sum().reset_index()[filter_col]))\n",
    "cluster2_relative_stockcode_freq = cluster2_relative_stockcode_freq.rename(columns={0: 'Cluster2'})\n",
    "cluster2_relative_stockcode_freq"
   ],
   "outputs": [],
   "metadata": {}
  },
  {
   "cell_type": "code",
   "execution_count": null,
   "source": [
    "stock_codes_with_highest_relative_value = pd.DataFrame(cluster2_relative_stockcode_freq.nlargest(10, ['Cluster2']).index).rename(columns={0: 'StockCode'})\n",
    "cluster2_top_purchases = stock_codes_with_highest_relative_value.merge(online_retail_data, on='StockCode')[['StockCode', 'Description']].drop_duplicates().dropna()\n",
    "cluster2_top_purchases['Desc_isupper'] = list(map(lambda x: x.isupper(), cluster2_top_purchases['Description']))\n",
    "cluster2_top_purchases = cluster2_top_purchases.query('Desc_isupper == True').reset_index()[['StockCode', 'Description']]\n",
    "cluster2_top_purchases"
   ],
   "outputs": [],
   "metadata": {}
  },
  {
   "cell_type": "code",
   "execution_count": null,
   "source": [
    "cluster3 = customer_purchases.query('Cluster == 3').set_index('CustomerID')\n",
    "cluster3 = cluster3.loc[:, (cluster3 != 0).any(axis=0)]\n",
    "filter_col = [col for col in cluster3 if col in stock_codes]\n",
    "cluster3[filter_col] = cluster3[filter_col].div(cluster3[filter_col].sum(axis=1), axis=0)\n",
    "cluster3 = cluster3.dropna()\n",
    "cluster3"
   ],
   "outputs": [],
   "metadata": {}
  },
  {
   "cell_type": "code",
   "execution_count": null,
   "source": [
    "filter_col = [col for col in cluster3 if col in stock_codes]\n",
    "cluster3_relative_stockcode_freq = pd.DataFrame(data = np.transpose(cluster3.groupby('Cluster').sum().reset_index()[filter_col]))\n",
    "cluster3_relative_stockcode_freq = cluster3_relative_stockcode_freq.rename(columns={0: 'Cluster3'})\n",
    "cluster3_relative_stockcode_freq"
   ],
   "outputs": [],
   "metadata": {}
  },
  {
   "cell_type": "code",
   "execution_count": null,
   "source": [
    "stock_codes_with_highest_relative_value = pd.DataFrame(cluster3_relative_stockcode_freq.nlargest(10, ['Cluster3']).index).rename(columns={0: 'StockCode'})\n",
    "cluster3_top_purchases = stock_codes_with_highest_relative_value.merge(online_retail_data, on='StockCode')[['StockCode', 'Description']].drop_duplicates().dropna()\n",
    "cluster3_top_purchases['Desc_isupper'] = list(map(lambda x: x.isupper(), cluster3_top_purchases['Description']))\n",
    "cluster3_top_purchases = cluster3_top_purchases.query('Desc_isupper == True').reset_index()[['StockCode', 'Description']]\n",
    "cluster3_top_purchases"
   ],
   "outputs": [],
   "metadata": {}
  },
  {
   "cell_type": "markdown",
   "source": [
    "While it was intended that each top 10 list only had 10 results, it appears that stock codes are not exactly unique, but instead are a classification that is almost unique-like. A stock code will not take into account a color difference between white and cream, for example, but can still reffer to a \"HANGING HEART T-LIGHT HOLDER\""
   ],
   "metadata": {}
  },
  {
   "cell_type": "markdown",
   "source": [
    "Because of the way the relative sums that determine purchase popularity were calculuated, each sum includes all purchases of a product and its variants (slightly different product with the same stock code). Therefore, dropping rows with that would cause a stock code to be duplicated would not have an affect on the popularity order.  "
   ],
   "metadata": {}
  },
  {
   "cell_type": "code",
   "execution_count": null,
   "source": [
    "cluster3_top_purchases.drop_duplicates(subset='StockCode')"
   ],
   "outputs": [],
   "metadata": {}
  }
 ],
 "metadata": {
  "orig_nbformat": 4,
  "language_info": {
   "name": "python",
   "version": "3.8.10",
   "mimetype": "text/x-python",
   "codemirror_mode": {
    "name": "ipython",
    "version": 3
   },
   "pygments_lexer": "ipython3",
   "nbconvert_exporter": "python",
   "file_extension": ".py"
  },
  "kernelspec": {
   "name": "python3",
   "display_name": "Python 3.8.10 64-bit ('.venv': venv)"
  },
  "interpreter": {
   "hash": "b014260332bc395769693f88422a5e915687014fb3cace3892ad054251ea24f6"
  }
 },
 "nbformat": 4,
 "nbformat_minor": 2
}