{
 "cells": [
  {
   "cell_type": "markdown",
   "source": [
    "# Stock Codes"
   ],
   "metadata": {}
  },
  {
   "cell_type": "markdown",
   "source": [
    "There are issues with the given stock code - description pairings found in the original data set. This notebook is my work in trying to discover these issues and to help develop a script to fix them in an automated way.  "
   ],
   "metadata": {}
  },
  {
   "cell_type": "code",
   "execution_count": 1,
   "source": [
    "import os\r\n",
    "import numpy as np\r\n",
    "import pandas as pd\r\n",
    "from dotenv import load_dotenv\r\n",
    "load_dotenv()"
   ],
   "outputs": [
    {
     "output_type": "execute_result",
     "data": {
      "text/plain": [
       "True"
      ]
     },
     "metadata": {},
     "execution_count": 1
    }
   ],
   "metadata": {}
  },
  {
   "cell_type": "code",
   "execution_count": 2,
   "source": [
    "file_path = f\"{os.getenv('PROJ_REPOS')}\\\\data\\\\Online Retail.xlsx\"\r\n",
    "online_retail = pd.read_excel(file_path)\r\n",
    "online_retail['StockCode'] = online_retail['StockCode'].astype(str)\r\n",
    "online_retail['Description'] = online_retail['Description'].astype(str)"
   ],
   "outputs": [],
   "metadata": {}
  },
  {
   "cell_type": "code",
   "execution_count": 3,
   "source": [
    "stock_items_raw = online_retail.query('Quantity > 0')[['StockCode', 'Description']].drop_duplicates()"
   ],
   "outputs": [],
   "metadata": {}
  },
  {
   "cell_type": "code",
   "execution_count": 4,
   "source": [
    "stock_items_raw"
   ],
   "outputs": [
    {
     "output_type": "execute_result",
     "data": {
      "text/html": [
       "<div>\n",
       "<style scoped>\n",
       "    .dataframe tbody tr th:only-of-type {\n",
       "        vertical-align: middle;\n",
       "    }\n",
       "\n",
       "    .dataframe tbody tr th {\n",
       "        vertical-align: top;\n",
       "    }\n",
       "\n",
       "    .dataframe thead th {\n",
       "        text-align: right;\n",
       "    }\n",
       "</style>\n",
       "<table border=\"1\" class=\"dataframe\">\n",
       "  <thead>\n",
       "    <tr style=\"text-align: right;\">\n",
       "      <th></th>\n",
       "      <th>StockCode</th>\n",
       "      <th>Description</th>\n",
       "    </tr>\n",
       "  </thead>\n",
       "  <tbody>\n",
       "    <tr>\n",
       "      <th>0</th>\n",
       "      <td>85123A</td>\n",
       "      <td>WHITE HANGING HEART T-LIGHT HOLDER</td>\n",
       "    </tr>\n",
       "    <tr>\n",
       "      <th>1</th>\n",
       "      <td>71053</td>\n",
       "      <td>WHITE METAL LANTERN</td>\n",
       "    </tr>\n",
       "    <tr>\n",
       "      <th>2</th>\n",
       "      <td>84406B</td>\n",
       "      <td>CREAM CUPID HEARTS COAT HANGER</td>\n",
       "    </tr>\n",
       "    <tr>\n",
       "      <th>3</th>\n",
       "      <td>84029G</td>\n",
       "      <td>KNITTED UNION FLAG HOT WATER BOTTLE</td>\n",
       "    </tr>\n",
       "    <tr>\n",
       "      <th>4</th>\n",
       "      <td>84029E</td>\n",
       "      <td>RED WOOLLY HOTTIE WHITE HEART.</td>\n",
       "    </tr>\n",
       "    <tr>\n",
       "      <th>...</th>\n",
       "      <td>...</td>\n",
       "      <td>...</td>\n",
       "    </tr>\n",
       "    <tr>\n",
       "      <th>535334</th>\n",
       "      <td>22142</td>\n",
       "      <td>check</td>\n",
       "    </tr>\n",
       "    <tr>\n",
       "      <th>537224</th>\n",
       "      <td>47591b</td>\n",
       "      <td>SCOTTIES CHILDRENS APRON</td>\n",
       "    </tr>\n",
       "    <tr>\n",
       "      <th>537621</th>\n",
       "      <td>85123A</td>\n",
       "      <td>CREAM HANGING HEART T-LIGHT HOLDER</td>\n",
       "    </tr>\n",
       "    <tr>\n",
       "      <th>538554</th>\n",
       "      <td>85175</td>\n",
       "      <td>nan</td>\n",
       "    </tr>\n",
       "    <tr>\n",
       "      <th>540421</th>\n",
       "      <td>23843</td>\n",
       "      <td>PAPER CRAFT , LITTLE BIRDIE</td>\n",
       "    </tr>\n",
       "  </tbody>\n",
       "</table>\n",
       "<p>4745 rows × 2 columns</p>\n",
       "</div>"
      ],
      "text/plain": [
       "       StockCode                          Description\n",
       "0         85123A   WHITE HANGING HEART T-LIGHT HOLDER\n",
       "1          71053                  WHITE METAL LANTERN\n",
       "2         84406B       CREAM CUPID HEARTS COAT HANGER\n",
       "3         84029G  KNITTED UNION FLAG HOT WATER BOTTLE\n",
       "4         84029E       RED WOOLLY HOTTIE WHITE HEART.\n",
       "...          ...                                  ...\n",
       "535334     22142                                check\n",
       "537224    47591b             SCOTTIES CHILDRENS APRON\n",
       "537621    85123A   CREAM HANGING HEART T-LIGHT HOLDER\n",
       "538554     85175                                  nan\n",
       "540421     23843          PAPER CRAFT , LITTLE BIRDIE\n",
       "\n",
       "[4745 rows x 2 columns]"
      ]
     },
     "metadata": {},
     "execution_count": 4
    }
   ],
   "metadata": {}
  },
  {
   "cell_type": "code",
   "execution_count": 5,
   "source": [
    "stock_items = stock_items_raw.dropna()\r\n",
    "stock_items.loc[:, 'StockCode'] = stock_items.loc[:, 'StockCode'].str.upper()\r\n",
    "stock_items['Desc_isupper'] = list(map(lambda x: x.isupper(), stock_items['Description']))\r\n",
    "stock_items = stock_items.query('Desc_isupper == True')[['StockCode', 'Description']]"
   ],
   "outputs": [],
   "metadata": {}
  },
  {
   "cell_type": "code",
   "execution_count": 6,
   "source": [
    "duplicated_stock_codes = stock_items.copy(deep=True)\r\n",
    "duplicated_stock_codes['duplicated'] = duplicated_stock_codes['StockCode'].duplicated()\r\n",
    "duplicated_stock_codes = duplicated_stock_codes.query(\"duplicated == True\")[\"StockCode\"]\r\n",
    "duplicated_stock_codes = list(duplicated_stock_codes.astype(str))\r\n",
    "duplicated_stock_codes.sort()"
   ],
   "outputs": [],
   "metadata": {}
  },
  {
   "cell_type": "code",
   "execution_count": 7,
   "source": [
    "duplicates_table = stock_items[stock_items['StockCode'].isin(duplicated_stock_codes)]\r\n"
   ],
   "outputs": [],
   "metadata": {}
  },
  {
   "cell_type": "code",
   "execution_count": 8,
   "source": [
    "duplicates_table = duplicates_table.sort_values('StockCode').drop_duplicates()"
   ],
   "outputs": [],
   "metadata": {}
  },
  {
   "cell_type": "code",
   "execution_count": 9,
   "source": [
    "duplicates_table"
   ],
   "outputs": [
    {
     "output_type": "execute_result",
     "data": {
      "text/html": [
       "<div>\n",
       "<style scoped>\n",
       "    .dataframe tbody tr th:only-of-type {\n",
       "        vertical-align: middle;\n",
       "    }\n",
       "\n",
       "    .dataframe tbody tr th {\n",
       "        vertical-align: top;\n",
       "    }\n",
       "\n",
       "    .dataframe thead th {\n",
       "        text-align: right;\n",
       "    }\n",
       "</style>\n",
       "<table border=\"1\" class=\"dataframe\">\n",
       "  <thead>\n",
       "    <tr style=\"text-align: right;\">\n",
       "      <th></th>\n",
       "      <th>StockCode</th>\n",
       "      <th>Description</th>\n",
       "    </tr>\n",
       "  </thead>\n",
       "  <tbody>\n",
       "    <tr>\n",
       "      <th>5370</th>\n",
       "      <td>15056BL</td>\n",
       "      <td>EDWARDIAN PARASOL BLACK</td>\n",
       "    </tr>\n",
       "    <tr>\n",
       "      <th>15801</th>\n",
       "      <td>15056N</td>\n",
       "      <td>EDWARDIAN PARASOL NATURAL</td>\n",
       "    </tr>\n",
       "    <tr>\n",
       "      <th>2307</th>\n",
       "      <td>15056P</td>\n",
       "      <td>EDWARDIAN PARASOL PINK</td>\n",
       "    </tr>\n",
       "    <tr>\n",
       "      <th>4310</th>\n",
       "      <td>15060B</td>\n",
       "      <td>FAIRY CAKE DESIGN UMBRELLA</td>\n",
       "    </tr>\n",
       "    <tr>\n",
       "      <th>47284</th>\n",
       "      <td>16156L</td>\n",
       "      <td>WRAP, CAROUSEL</td>\n",
       "    </tr>\n",
       "    <tr>\n",
       "      <th>...</th>\n",
       "      <td>...</td>\n",
       "      <td>...</td>\n",
       "    </tr>\n",
       "    <tr>\n",
       "      <th>10792</th>\n",
       "      <td>90014B</td>\n",
       "      <td>GOLD M PEARL  ORBIT NECKLACE</td>\n",
       "    </tr>\n",
       "    <tr>\n",
       "      <th>501725</th>\n",
       "      <td>90014C</td>\n",
       "      <td>SILVER AND BLACK ORBIT NECKLACE</td>\n",
       "    </tr>\n",
       "    <tr>\n",
       "      <th>142063</th>\n",
       "      <td>90014C</td>\n",
       "      <td>SILVER/BLACK ORBIT NECKLACE</td>\n",
       "    </tr>\n",
       "    <tr>\n",
       "      <th>75049</th>\n",
       "      <td>90183C</td>\n",
       "      <td>BLACK DROP EARRINGS W LONG BEADS</td>\n",
       "    </tr>\n",
       "    <tr>\n",
       "      <th>431338</th>\n",
       "      <td>90184C</td>\n",
       "      <td>BLACK CHUNKY BEAD BRACELET W STRAP</td>\n",
       "    </tr>\n",
       "  </tbody>\n",
       "</table>\n",
       "<p>558 rows × 2 columns</p>\n",
       "</div>"
      ],
      "text/plain": [
       "       StockCode                         Description\n",
       "5370     15056BL             EDWARDIAN PARASOL BLACK\n",
       "15801     15056N           EDWARDIAN PARASOL NATURAL\n",
       "2307      15056P              EDWARDIAN PARASOL PINK\n",
       "4310      15060B          FAIRY CAKE DESIGN UMBRELLA\n",
       "47284     16156L                      WRAP, CAROUSEL\n",
       "...          ...                                 ...\n",
       "10792     90014B        GOLD M PEARL  ORBIT NECKLACE\n",
       "501725    90014C     SILVER AND BLACK ORBIT NECKLACE\n",
       "142063    90014C         SILVER/BLACK ORBIT NECKLACE\n",
       "75049     90183C    BLACK DROP EARRINGS W LONG BEADS\n",
       "431338    90184C  BLACK CHUNKY BEAD BRACELET W STRAP\n",
       "\n",
       "[558 rows x 2 columns]"
      ]
     },
     "metadata": {},
     "execution_count": 9
    }
   ],
   "metadata": {}
  },
  {
   "cell_type": "code",
   "execution_count": 10,
   "source": [
    "'''\r\n",
    "file_path = f\"{os.getenv('PROJ_REPOS')}\\\\data\\\\duplicates_table.csv\"\r\n",
    "duplicates_table.to_csv(file_path)\r\n",
    "'''"
   ],
   "outputs": [
    {
     "output_type": "execute_result",
     "data": {
      "text/plain": [
       "'\\nfile_path = f\"{os.getenv(\\'PROJ_REPOS\\')}\\\\data\\\\duplicates_table.csv\"\\nduplicates_table.to_csv(file_path)\\n'"
      ]
     },
     "metadata": {},
     "execution_count": 10
    }
   ],
   "metadata": {}
  },
  {
   "cell_type": "markdown",
   "source": [
    "After looking at a CSV file of only 457 rows, three particular descriptions were clearly out of place: \"AMAZON\", \"FOUND\", and \"FBA\""
   ],
   "metadata": {}
  },
  {
   "cell_type": "code",
   "execution_count": 11,
   "source": [
    "stock_items.query('Description == \"AMAZON\"')"
   ],
   "outputs": [
    {
     "output_type": "execute_result",
     "data": {
      "text/html": [
       "<div>\n",
       "<style scoped>\n",
       "    .dataframe tbody tr th:only-of-type {\n",
       "        vertical-align: middle;\n",
       "    }\n",
       "\n",
       "    .dataframe tbody tr th {\n",
       "        vertical-align: top;\n",
       "    }\n",
       "\n",
       "    .dataframe thead th {\n",
       "        text-align: right;\n",
       "    }\n",
       "</style>\n",
       "<table border=\"1\" class=\"dataframe\">\n",
       "  <thead>\n",
       "    <tr style=\"text-align: right;\">\n",
       "      <th></th>\n",
       "      <th>StockCode</th>\n",
       "      <th>Description</th>\n",
       "    </tr>\n",
       "  </thead>\n",
       "  <tbody>\n",
       "    <tr>\n",
       "      <th>499887</th>\n",
       "      <td>72807A</td>\n",
       "      <td>AMAZON</td>\n",
       "    </tr>\n",
       "    <tr>\n",
       "      <th>503634</th>\n",
       "      <td>22848</td>\n",
       "      <td>AMAZON</td>\n",
       "    </tr>\n",
       "    <tr>\n",
       "      <th>519355</th>\n",
       "      <td>22925</td>\n",
       "      <td>AMAZON</td>\n",
       "    </tr>\n",
       "  </tbody>\n",
       "</table>\n",
       "</div>"
      ],
      "text/plain": [
       "       StockCode Description\n",
       "499887    72807A      AMAZON\n",
       "503634     22848      AMAZON\n",
       "519355     22925      AMAZON"
      ]
     },
     "metadata": {},
     "execution_count": 11
    }
   ],
   "metadata": {}
  },
  {
   "cell_type": "code",
   "execution_count": 12,
   "source": [
    "stock_items.query('Description == \"FOUND\"')"
   ],
   "outputs": [
    {
     "output_type": "execute_result",
     "data": {
      "text/html": [
       "<div>\n",
       "<style scoped>\n",
       "    .dataframe tbody tr th:only-of-type {\n",
       "        vertical-align: middle;\n",
       "    }\n",
       "\n",
       "    .dataframe tbody tr th {\n",
       "        vertical-align: top;\n",
       "    }\n",
       "\n",
       "    .dataframe thead th {\n",
       "        text-align: right;\n",
       "    }\n",
       "</style>\n",
       "<table border=\"1\" class=\"dataframe\">\n",
       "  <thead>\n",
       "    <tr style=\"text-align: right;\">\n",
       "      <th></th>\n",
       "      <th>StockCode</th>\n",
       "      <th>Description</th>\n",
       "    </tr>\n",
       "  </thead>\n",
       "  <tbody>\n",
       "    <tr>\n",
       "      <th>241840</th>\n",
       "      <td>22734</td>\n",
       "      <td>FOUND</td>\n",
       "    </tr>\n",
       "  </tbody>\n",
       "</table>\n",
       "</div>"
      ],
      "text/plain": [
       "       StockCode Description\n",
       "241840     22734       FOUND"
      ]
     },
     "metadata": {},
     "execution_count": 12
    }
   ],
   "metadata": {}
  },
  {
   "cell_type": "code",
   "execution_count": 13,
   "source": [
    "stock_items.query('Description == \"FBA\"')"
   ],
   "outputs": [
    {
     "output_type": "execute_result",
     "data": {
      "text/html": [
       "<div>\n",
       "<style scoped>\n",
       "    .dataframe tbody tr th:only-of-type {\n",
       "        vertical-align: middle;\n",
       "    }\n",
       "\n",
       "    .dataframe tbody tr th {\n",
       "        vertical-align: top;\n",
       "    }\n",
       "\n",
       "    .dataframe thead th {\n",
       "        text-align: right;\n",
       "    }\n",
       "</style>\n",
       "<table border=\"1\" class=\"dataframe\">\n",
       "  <thead>\n",
       "    <tr style=\"text-align: right;\">\n",
       "      <th></th>\n",
       "      <th>StockCode</th>\n",
       "      <th>Description</th>\n",
       "    </tr>\n",
       "  </thead>\n",
       "  <tbody>\n",
       "    <tr>\n",
       "      <th>270339</th>\n",
       "      <td>82583</td>\n",
       "      <td>FBA</td>\n",
       "    </tr>\n",
       "  </tbody>\n",
       "</table>\n",
       "</div>"
      ],
      "text/plain": [
       "       StockCode Description\n",
       "270339     82583         FBA"
      ]
     },
     "metadata": {},
     "execution_count": 13
    }
   ],
   "metadata": {}
  },
  {
   "cell_type": "code",
   "execution_count": 14,
   "source": [
    "stock_items['multi_word'] = list(map(lambda desc: ' ' in desc, stock_items['Description']))\r\n",
    "stock_items.query(\"multi_word == False\")"
   ],
   "outputs": [
    {
     "output_type": "execute_result",
     "data": {
      "text/html": [
       "<div>\n",
       "<style scoped>\n",
       "    .dataframe tbody tr th:only-of-type {\n",
       "        vertical-align: middle;\n",
       "    }\n",
       "\n",
       "    .dataframe tbody tr th {\n",
       "        vertical-align: top;\n",
       "    }\n",
       "\n",
       "    .dataframe thead th {\n",
       "        text-align: right;\n",
       "    }\n",
       "</style>\n",
       "<table border=\"1\" class=\"dataframe\">\n",
       "  <thead>\n",
       "    <tr style=\"text-align: right;\">\n",
       "      <th></th>\n",
       "      <th>StockCode</th>\n",
       "      <th>Description</th>\n",
       "      <th>multi_word</th>\n",
       "    </tr>\n",
       "  </thead>\n",
       "  <tbody>\n",
       "    <tr>\n",
       "      <th>45</th>\n",
       "      <td>POST</td>\n",
       "      <td>POSTAGE</td>\n",
       "      <td>False</td>\n",
       "    </tr>\n",
       "    <tr>\n",
       "      <th>1423</th>\n",
       "      <td>C2</td>\n",
       "      <td>CARRIAGE</td>\n",
       "      <td>False</td>\n",
       "    </tr>\n",
       "    <tr>\n",
       "      <th>152709</th>\n",
       "      <td>S</td>\n",
       "      <td>SAMPLES</td>\n",
       "      <td>False</td>\n",
       "    </tr>\n",
       "    <tr>\n",
       "      <th>241840</th>\n",
       "      <td>22734</td>\n",
       "      <td>FOUND</td>\n",
       "      <td>False</td>\n",
       "    </tr>\n",
       "    <tr>\n",
       "      <th>270339</th>\n",
       "      <td>82583</td>\n",
       "      <td>FBA</td>\n",
       "      <td>False</td>\n",
       "    </tr>\n",
       "    <tr>\n",
       "      <th>499887</th>\n",
       "      <td>72807A</td>\n",
       "      <td>AMAZON</td>\n",
       "      <td>False</td>\n",
       "    </tr>\n",
       "    <tr>\n",
       "      <th>503634</th>\n",
       "      <td>22848</td>\n",
       "      <td>AMAZON</td>\n",
       "      <td>False</td>\n",
       "    </tr>\n",
       "    <tr>\n",
       "      <th>519355</th>\n",
       "      <td>22925</td>\n",
       "      <td>AMAZON</td>\n",
       "      <td>False</td>\n",
       "    </tr>\n",
       "  </tbody>\n",
       "</table>\n",
       "</div>"
      ],
      "text/plain": [
       "       StockCode Description  multi_word\n",
       "45          POST     POSTAGE       False\n",
       "1423          C2    CARRIAGE       False\n",
       "152709         S     SAMPLES       False\n",
       "241840     22734       FOUND       False\n",
       "270339     82583         FBA       False\n",
       "499887    72807A      AMAZON       False\n",
       "503634     22848      AMAZON       False\n",
       "519355     22925      AMAZON       False"
      ]
     },
     "metadata": {},
     "execution_count": 14
    }
   ],
   "metadata": {}
  },
  {
   "cell_type": "markdown",
   "source": [
    "In every case where the stock codes represent a product, the descriptions contain multiple words except when the description does not describe the product, but describes the transaction about the product. Therefore, all descriptions of regular stock codes (when a code represents a product) that contain only one word will be dropped.  "
   ],
   "metadata": {}
  },
  {
   "cell_type": "code",
   "execution_count": 15,
   "source": [
    "stock_codes = list(stock_items.StockCode.unique())\r\n",
    "stock_codes.sort()"
   ],
   "outputs": [],
   "metadata": {}
  },
  {
   "cell_type": "code",
   "execution_count": 16,
   "source": [
    "stock_codes[-15:]"
   ],
   "outputs": [
    {
     "output_type": "execute_result",
     "data": {
      "text/plain": [
       "['90214Y',\n",
       " '90214Z',\n",
       " 'AMAZONFEE',\n",
       " 'C2',\n",
       " 'DCGS0003',\n",
       " 'DCGS0004',\n",
       " 'DCGS0069',\n",
       " 'DCGS0070',\n",
       " 'DCGS0076',\n",
       " 'DCGSSBOY',\n",
       " 'DCGSSGIRL',\n",
       " 'DOT',\n",
       " 'PADS',\n",
       " 'POST',\n",
       " 'S']"
      ]
     },
     "metadata": {},
     "execution_count": 16
    }
   ],
   "metadata": {}
  },
  {
   "cell_type": "markdown",
   "source": [
    "In addition, the stock codes that do not represent products need to be dropped. These include \"AMAZONFEE\", \"C2\", \"DOT\", \"PADS\", \"POST\", and \"S\"  "
   ],
   "metadata": {}
  },
  {
   "cell_type": "code",
   "execution_count": 17,
   "source": [
    "to_drop = [\r\n",
    "    \"AMAZONFEE\",\r\n",
    "    \"C2\",\r\n",
    "    \"DOT\",\r\n",
    "    \"PADS\",\r\n",
    "    \"POST\",\r\n",
    "    \"S\"\r\n",
    "]\r\n",
    "\r\n",
    "to_keep = list(stock_codes)\r\n",
    "for entry in to_drop:\r\n",
    "    to_keep.remove(entry)"
   ],
   "outputs": [],
   "metadata": {}
  },
  {
   "cell_type": "code",
   "execution_count": 18,
   "source": [
    "stock_items = stock_items[stock_items[\"StockCode\"].isin(to_keep)].query(\"multi_word == True\")[['StockCode', 'Description']]"
   ],
   "outputs": [],
   "metadata": {}
  },
  {
   "cell_type": "code",
   "execution_count": 19,
   "source": [
    "stock_items = stock_items.sort_values('StockCode').reset_index()[['StockCode', 'Description']]\r\n",
    "stock_items_all = stock_items"
   ],
   "outputs": [],
   "metadata": {}
  },
  {
   "cell_type": "code",
   "execution_count": 20,
   "source": [
    "stock_items_all"
   ],
   "outputs": [
    {
     "output_type": "execute_result",
     "data": {
      "text/html": [
       "<div>\n",
       "<style scoped>\n",
       "    .dataframe tbody tr th:only-of-type {\n",
       "        vertical-align: middle;\n",
       "    }\n",
       "\n",
       "    .dataframe tbody tr th {\n",
       "        vertical-align: top;\n",
       "    }\n",
       "\n",
       "    .dataframe thead th {\n",
       "        text-align: right;\n",
       "    }\n",
       "</style>\n",
       "<table border=\"1\" class=\"dataframe\">\n",
       "  <thead>\n",
       "    <tr style=\"text-align: right;\">\n",
       "      <th></th>\n",
       "      <th>StockCode</th>\n",
       "      <th>Description</th>\n",
       "    </tr>\n",
       "  </thead>\n",
       "  <tbody>\n",
       "    <tr>\n",
       "      <th>0</th>\n",
       "      <td>10002</td>\n",
       "      <td>INFLATABLE POLITICAL GLOBE</td>\n",
       "    </tr>\n",
       "    <tr>\n",
       "      <th>1</th>\n",
       "      <td>10080</td>\n",
       "      <td>GROOVY CACTUS INFLATABLE</td>\n",
       "    </tr>\n",
       "    <tr>\n",
       "      <th>2</th>\n",
       "      <td>10120</td>\n",
       "      <td>DOGGY RUBBER</td>\n",
       "    </tr>\n",
       "    <tr>\n",
       "      <th>3</th>\n",
       "      <td>10123C</td>\n",
       "      <td>HEARTS WRAPPING TAPE</td>\n",
       "    </tr>\n",
       "    <tr>\n",
       "      <th>4</th>\n",
       "      <td>10124A</td>\n",
       "      <td>SPOTS ON RED BOOKCOVER TAPE</td>\n",
       "    </tr>\n",
       "    <tr>\n",
       "      <th>...</th>\n",
       "      <td>...</td>\n",
       "      <td>...</td>\n",
       "    </tr>\n",
       "    <tr>\n",
       "      <th>4118</th>\n",
       "      <td>DCGS0069</td>\n",
       "      <td>OOH LA LA DOGS COLLAR</td>\n",
       "    </tr>\n",
       "    <tr>\n",
       "      <th>4119</th>\n",
       "      <td>DCGS0070</td>\n",
       "      <td>CAMOUFLAGE DOG COLLAR</td>\n",
       "    </tr>\n",
       "    <tr>\n",
       "      <th>4120</th>\n",
       "      <td>DCGS0076</td>\n",
       "      <td>SUNJAR LED NIGHT NIGHT LIGHT</td>\n",
       "    </tr>\n",
       "    <tr>\n",
       "      <th>4121</th>\n",
       "      <td>DCGSSBOY</td>\n",
       "      <td>BOYS PARTY BAG</td>\n",
       "    </tr>\n",
       "    <tr>\n",
       "      <th>4122</th>\n",
       "      <td>DCGSSGIRL</td>\n",
       "      <td>GIRLS PARTY BAG</td>\n",
       "    </tr>\n",
       "  </tbody>\n",
       "</table>\n",
       "<p>4123 rows × 2 columns</p>\n",
       "</div>"
      ],
      "text/plain": [
       "      StockCode                   Description\n",
       "0         10002   INFLATABLE POLITICAL GLOBE \n",
       "1         10080      GROOVY CACTUS INFLATABLE\n",
       "2         10120                  DOGGY RUBBER\n",
       "3        10123C         HEARTS WRAPPING TAPE \n",
       "4        10124A   SPOTS ON RED BOOKCOVER TAPE\n",
       "...         ...                           ...\n",
       "4118   DCGS0069         OOH LA LA DOGS COLLAR\n",
       "4119   DCGS0070         CAMOUFLAGE DOG COLLAR\n",
       "4120   DCGS0076  SUNJAR LED NIGHT NIGHT LIGHT\n",
       "4121   DCGSSBOY                BOYS PARTY BAG\n",
       "4122  DCGSSGIRL               GIRLS PARTY BAG\n",
       "\n",
       "[4123 rows x 2 columns]"
      ]
     },
     "metadata": {},
     "execution_count": 20
    }
   ],
   "metadata": {}
  },
  {
   "cell_type": "code",
   "execution_count": 21,
   "source": [
    "stock_items_all.to_csv(f\"{os.getenv('PROJ_REPOS')}\\\\data\\\\Stock_Items_All.csv\")"
   ],
   "outputs": [],
   "metadata": {}
  },
  {
   "cell_type": "code",
   "execution_count": 22,
   "source": [
    "stock_items = stock_items.drop_duplicates('StockCode')"
   ],
   "outputs": [],
   "metadata": {}
  },
  {
   "cell_type": "code",
   "execution_count": 23,
   "source": [
    "stock_items.to_csv(f\"{os.getenv('PROJ_REPOS')}\\\\data\\\\Stock_Items.csv\")"
   ],
   "outputs": [],
   "metadata": {}
  },
  {
   "cell_type": "markdown",
   "source": [
    "Stock_Items_All.csv includes all valid variations of each stock code, while Stock_Items.csv ignores the variations but results in each stock code being assigned to a unique description. This is done under the assumption that each code represents a particular product in which the products represented by a stock code would only have slight differences (size, color, etc.).  "
   ],
   "metadata": {}
  }
 ],
 "metadata": {
  "orig_nbformat": 4,
  "language_info": {
   "name": "python",
   "version": "3.8.10",
   "mimetype": "text/x-python",
   "codemirror_mode": {
    "name": "ipython",
    "version": 3
   },
   "pygments_lexer": "ipython3",
   "nbconvert_exporter": "python",
   "file_extension": ".py"
  },
  "kernelspec": {
   "name": "python3",
   "display_name": "Python 3.8.10 64-bit ('.venv': venv)"
  },
  "interpreter": {
   "hash": "0ea2dbc4fe537a13f3b1160fe814a4da113f75e686db467bbd5fb66542125ca3"
  }
 },
 "nbformat": 4,
 "nbformat_minor": 2
}